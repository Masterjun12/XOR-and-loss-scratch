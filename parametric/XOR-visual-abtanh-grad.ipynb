{
 "cells": [
  {
   "cell_type": "code",
   "execution_count": 168,
   "id": "7feb7cd7",
   "metadata": {},
   "outputs": [],
   "source": [
    "import numpy as np\n",
    "import tensorflow as tf\n",
    "from tensorflow.keras import layers, models, optimizers\n",
    "import matplotlib.pyplot as plt\n",
    "from tensorflow.keras.callbacks import TensorBoard\n",
    "\n",
    "import numpy as np\n",
    "import tensorflow as tf\n",
    "from tensorflow import keras\n",
    "from tensorflow.keras import layers\n",
    "import matplotlib.pyplot as plt\n",
    "import os\n",
    "import sys"
   ]
  },
  {
   "cell_type": "code",
   "execution_count": 169,
   "id": "7271093e",
   "metadata": {},
   "outputs": [],
   "source": [
    "import tensorflow as tf\n",
    "import numpy as np\n",
    "from PIL import Image\n",
    "import matplotlib.pyplot as plt\n",
    "import cv2, os, glob\n",
    "\n",
    "np.set_printoptions(threshold=np.inf) # NumPy 설정\n",
    "os.environ[\"CUDA_VISIBLE_DEVICES\"] = \"3\" # CUDA 가시성 설정 (GPU 사용시 필요)\n",
    "\n",
    "# GPU 메모리 구성 설정 (GPU 사용시 필요)\n",
    "gpus = tf.config.experimental.list_physical_devices('GPU')\n",
    "if gpus:\n",
    "    try:\n",
    "        # TensorFlow 2.x에서는 set_memory_growth 대신에 메모리 할당 옵션을 설정하는 코드\n",
    "        tf.config.experimental.set_memory_growth(gpus[0], True)\n",
    "    except RuntimeError as e:\n",
    "        print(e)"
   ]
  },
  {
   "cell_type": "code",
   "execution_count": 170,
   "id": "6c7201dc",
   "metadata": {},
   "outputs": [],
   "source": [
    "# Custom abTanh Layer\n",
    "class abTanh(layers.Layer):\n",
    "    def __init__(self, units=None, init_a=7, init_b=0, **kwargs):\n",
    "        super(abTanh, self).__init__(**kwargs)\n",
    "        self.units = units\n",
    "        self.init_a = init_a\n",
    "        self.init_b = init_b\n",
    "\n",
    "    def build(self, input_shape):\n",
    "        units_shape = self.units if self.units else input_shape[1:]\n",
    "        self.b = self.add_weight(shape=units_shape, initializer=tf.constant_initializer(self.init_b), trainable=True, name=\"b\")\n",
    "        self.a = self.add_weight(shape=units_shape, initializer=tf.constant_initializer(self.init_a), trainable=True, name=\"a\")\n",
    "\n",
    "    def call(self, inputs, **kwargs):\n",
    "        x = tf.subtract(inputs, self.b)\n",
    "        x = tf.nn.tanh(x)\n",
    "        x = tf.multiply(x, self.a)\n",
    "        return x"
   ]
  },
  {
   "cell_type": "code",
   "execution_count": 171,
   "id": "62f8bf1d",
   "metadata": {},
   "outputs": [],
   "source": [
    "# Data preparation\n",
    "X = np.array([[0, 0], [0, 1], [1, 0], [1, 1]], dtype=np.float32)\n",
    "y = np.array([[0], [1], [1], [0]], dtype=np.float32)"
   ]
  },
  {
   "cell_type": "code",
   "execution_count": 172,
   "id": "eea6e38a",
   "metadata": {},
   "outputs": [],
   "source": [
    "# Model definition\n",
    "model = models.Sequential()\n",
    "model.add(layers.Input(shape=(2,)))\n",
    "model.add(layers.Dense(10))\n",
    "model.add(abTanh(units=10))\n",
    "model.add(layers.Dense(1, activation='sigmoid'))"
   ]
  },
  {
   "cell_type": "code",
   "execution_count": 173,
   "id": "11ec8f87",
   "metadata": {},
   "outputs": [],
   "source": [
    "# Model compilation\n",
    "model.compile(optimizer=optimizers.Adam(), loss='binary_crossentropy', metrics=['accuracy'])"
   ]
  },
  {
   "cell_type": "code",
   "execution_count": 174,
   "id": "8c602952",
   "metadata": {},
   "outputs": [],
   "source": [
    "# Callback for TensorBoard\n",
    "logdir = \"./logs/train\"\n",
    "tensorboard_callback = TensorBoard(log_dir=logdir)"
   ]
  },
  {
   "cell_type": "code",
   "execution_count": 178,
   "id": "09956a7b",
   "metadata": {},
   "outputs": [],
   "source": [
    "# Directory to save gradient visualizations\n",
    "save_dir = './gradient_visualizations'\n",
    "os.makedirs(save_dir, exist_ok=True)"
   ]
  },
  {
   "cell_type": "code",
   "execution_count": 179,
   "id": "cf87be3f",
   "metadata": {},
   "outputs": [],
   "source": [
    "# Function to calculate and visualize gradients and save as PNG\n",
    "def visualize_gradients_and_save(model, X, epoch):\n",
    "    with tf.GradientTape() as tape:\n",
    "        predictions = model(X)\n",
    "        loss = tf.reduce_mean(tf.keras.losses.binary_crossentropy(y, predictions))  # Compute loss manually\n",
    "\n",
    "    # Calculate gradients\n",
    "    gradients = tape.gradient(loss, model.trainable_variables)\n",
    "\n",
    "    # Visualize gradients\n",
    "    fig, axs = plt.subplots(len(gradients), 1, figsize=(8, 6))\n",
    "    for i, grad in enumerate(gradients):\n",
    "        axs[i].hist(grad.numpy().flatten(), bins=30)\n",
    "        axs[i].set_title(f'Layer {i+1} Gradient Distribution')\n",
    "        axs[i].set_xlabel('Gradient Value')\n",
    "        axs[i].set_ylabel('Count')\n",
    "    \n",
    "    plt.tight_layout()\n",
    "    \n",
    "    # Save figure as PNG\n",
    "    fig.savefig(f'{save_dir}/epoch_{epoch}_gradients.png')\n",
    "    plt.close(fig)  # Close the figure to free up memory\n"
   ]
  },
  {
   "cell_type": "code",
   "execution_count": 180,
   "id": "26f32437",
   "metadata": {},
   "outputs": [
    {
     "name": "stdout",
     "output_type": "stream",
     "text": [
      "Epoch 0\n",
      "Epoch 100\n",
      "Epoch 200\n",
      "Epoch 300\n",
      "Epoch 400\n",
      "Epoch 500\n",
      "Epoch 600\n",
      "Epoch 700\n",
      "Epoch 800\n",
      "Epoch 900\n"
     ]
    }
   ],
   "source": [
    "epochs = 1000\n",
    "for epoch in range(epochs):\n",
    "    model.fit(X, y, epochs=1, verbose=0, callbacks=[tensorboard_callback])\n",
    "    if epoch % 100 == 0:\n",
    "        print(f\"Epoch {epoch}\")\n",
    "        visualize_gradients_and_save(model, X, epoch)\n"
   ]
  }
 ],
 "metadata": {
  "kernelspec": {
   "display_name": "Python 3 (ipykernel)",
   "language": "python",
   "name": "python3"
  },
  "language_info": {
   "codemirror_mode": {
    "name": "ipython",
    "version": 3
   },
   "file_extension": ".py",
   "mimetype": "text/x-python",
   "name": "python",
   "nbconvert_exporter": "python",
   "pygments_lexer": "ipython3",
   "version": "3.8.14"
  }
 },
 "nbformat": 4,
 "nbformat_minor": 5
}
